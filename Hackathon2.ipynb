{
 "cells": [
  {
   "cell_type": "code",
   "execution_count": 11,
   "metadata": {},
   "outputs": [
    {
     "data": {
      "text/html": [
       "<div>\n",
       "<style scoped>\n",
       "    .dataframe tbody tr th:only-of-type {\n",
       "        vertical-align: middle;\n",
       "    }\n",
       "\n",
       "    .dataframe tbody tr th {\n",
       "        vertical-align: top;\n",
       "    }\n",
       "\n",
       "    .dataframe thead th {\n",
       "        text-align: right;\n",
       "    }\n",
       "</style>\n",
       "<table border=\"1\" class=\"dataframe\">\n",
       "  <thead>\n",
       "    <tr style=\"text-align: right;\">\n",
       "      <th></th>\n",
       "      <th>Interventions / Frequency:19</th>\n",
       "    </tr>\n",
       "  </thead>\n",
       "  <tbody>\n",
       "    <tr>\n",
       "      <th>0</th>\n",
       "      <td>PC will meet with pt for individual counseling...</td>\n",
       "    </tr>\n",
       "    <tr>\n",
       "      <th>1</th>\n",
       "      <td>Trauma - Tuesdays 9-10:15am\\n• Psycho-educatio...</td>\n",
       "    </tr>\n",
       "    <tr>\n",
       "      <th>2</th>\n",
       "      <td>PC will meet with client 1 on 1 weekly for 1 h...</td>\n",
       "    </tr>\n",
       "    <tr>\n",
       "      <th>3</th>\n",
       "      <td>PC will meet with pt for individual counseling...</td>\n",
       "    </tr>\n",
       "  </tbody>\n",
       "</table>\n",
       "</div>"
      ],
      "text/plain": [
       "                        Interventions / Frequency:19\n",
       "0  PC will meet with pt for individual counseling...\n",
       "1  Trauma - Tuesdays 9-10:15am\\n• Psycho-educatio...\n",
       "2  PC will meet with client 1 on 1 weekly for 1 h...\n",
       "3  PC will meet with pt for individual counseling..."
      ]
     },
     "execution_count": 11,
     "metadata": {},
     "output_type": "execute_result"
    }
   ],
   "source": [
    "import pandas as pd\n",
    "import re\n",
    "\n",
    "file_path = 'Patient.xlsx' # I renamed it but was originally called Patient Report - Treatment Plan Sample Data\n",
    "\n",
    "try:\n",
    "    df = pd.read_excel(file_path)\n",
    "    df_11th_column = df.iloc[:, [10]]  \n",
    "except FileNotFoundError:\n",
    "    print(f\"The file '{file_path}' was not found. Please check the file name and location.\")\n",
    "    df_11th_column = pd.DataFrame()  \n",
    "except Exception as e:\n",
    "    print(f\"An error occurred: {e}\")\n",
    "    df_11th_column = pd.DataFrame()\n",
    "\n",
    "df_11th_column.head()\n"
   ]
  },
  {
   "cell_type": "code",
   "execution_count": 17,
   "metadata": {},
   "outputs": [],
   "source": [
    "def clean_text(text):\n",
    "    text = re.sub(r'\\r\\n|\\r|\\n', '\\n', text)\n",
    "    text = re.sub(r'[ \\t]+', ' ', text)\n",
    "    text = re.sub(r'\\n\\s*\\n', '\\n\\n', text.strip())\n",
    "    return text\n",
    "\n",
    "def cut_after_hours(para):\n",
    "    match = re.search(r'.*?hours\\s*/?\\s*week', para, re.IGNORECASE)\n",
    "    return match.group(0) if match else para\n"
   ]
  },
  {
   "cell_type": "code",
   "execution_count": 21,
   "metadata": {},
   "outputs": [
    {
     "name": "stdout",
     "output_type": "stream",
     "text": [
      "Row 1 - Filtered and Cut Paragraphs Ending After 'hours/week':\n",
      "\n",
      "Filtered and Cut Paragraph 1:\n",
      "Yoga MONDAY Mon 9-10:15 am - 1.25 hours/week\n",
      "\n",
      "Filtered and Cut Paragraph 2:\n",
      "Acupuncture MONDAY 10:30-11:45 - 1.25 hours/week\n",
      "\n",
      "Filtered and Cut Paragraph 3:\n",
      "Spirituality of Imperfection TUESDAY 9-10:15 am - 1.25 hours/week\n",
      "\n",
      "Filtered and Cut Paragraph 4:\n",
      "REBT TUESDAY 10:30-11:45 - 1.25 hours/week\n",
      "\n",
      "Filtered and Cut Paragraph 5:\n",
      "IOP/OP WEDNESDAY 9-10:15 am - 1.25 hours/week\n",
      "\n",
      "Filtered and Cut Paragraph 6:\n",
      "Art Therapy in Recovery WEDNESDAY 10:30-11:45 - 1.25 hours/week\n",
      "\n",
      "Filtered and Cut Paragraph 7:\n",
      "Mindfulness Relapse Prevention FRIDAY 9-10:15 am - 1.25 hours/week\n",
      "\n",
      "Filtered and Cut Paragraph 8:\n",
      "Alone-liness Alleviation FRIDAY 10:30-11:45 - 1.25 hours/week\n",
      "\n",
      "Row 4 - Filtered and Cut Paragraphs Ending After 'hours/week':\n",
      "\n",
      "Filtered and Cut Paragraph 1:\n",
      "Trauma 9-10:15 am - 1.25 hours/week\n",
      "\n",
      "Filtered and Cut Paragraph 2:\n",
      "Harmony Hope and Healing Tuesday 10:30-11:45 - 1.25 hours/week\n",
      "\n",
      "Filtered and Cut Paragraph 3:\n",
      "Family Trauma Thursdays 9-10:15 am - 1.25 hours/week\n",
      "\n",
      "Filtered and Cut Paragraph 4:\n",
      "RSS Soul Train Group Fun dance (1.25 hours / week\n",
      "\n",
      "Filtered and Cut Paragraph 5:\n",
      "Mindfulness Relapse Prevention Friday 9-10:15 am - 1.25 hours/week\n",
      "\n"
     ]
    }
   ],
   "source": [
    "all_cut_paragraphs = []\n",
    "\n",
    "for index, row in df_11th_column.iterrows():\n",
    "    text_data = clean_text(row.iloc[0])\n",
    "\n",
    "    paragraphs = re.split(r'\\n\\s*\\n', text_data)\n",
    "\n",
    "    filtered_paragraphs = [para for para in paragraphs if re.search(r'hours\\s*/?\\s*week', para, re.IGNORECASE)]\n",
    "\n",
    "    cut_paragraphs = [cut_after_hours(para) for para in filtered_paragraphs]\n",
    "    all_cut_paragraphs.extend(cut_paragraphs)\n",
    "\n",
    "    if cut_paragraphs:\n",
    "        print(f\"Row {index + 1} - Filtered and Cut Paragraphs Ending After 'hours/week':\\n\")\n",
    "        for i, para in enumerate(cut_paragraphs):\n",
    "            print(f\"Filtered and Cut Paragraph {i + 1}:\\n{para}\\n\")\n"
   ]
  },
  {
   "cell_type": "code",
   "execution_count": null,
   "metadata": {},
   "outputs": [],
   "source": [
    "from transformers import pipeline\n",
    "\n",
    "pipe = pipeline(\"token-classification\", model =\"Clinical-AI-Appolo/Meedical-NER\", aggregation_strategy='simple')"
   ]
  },
  {
   "cell_type": "code",
   "execution_count": 26,
   "metadata": {},
   "outputs": [],
   "source": [
    "pattern = re.compile(\n",
    "    r'^(.*?)(MONDAY|TUESDAY|WEDNESDAY|THURSDAY|FRIDAY)\\s+([0-9:-]+\\s*[APMapm]*?)\\s*-\\s*([0-9.]+\\s*hours/week)',\n",
    "    re.IGNORECASE\n",
    ")\n",
    "\n",
    "programs = []\n",
    "weekdays = []\n",
    "times = []\n",
    "hours_per_week = []\n",
    "\n",
    "for para in all_cut_paragraphs:\n",
    "    match = pattern.search(para.strip())\n",
    "    if match:\n",
    "        programs.append(match.group(1).strip())\n",
    "        weekdays.append(match.group(2).capitalize())\n",
    "        times.append(match.group(3).strip())\n",
    "        hours_per_week.append(match.group(4).strip())\n"
   ]
  },
  {
   "cell_type": "code",
   "execution_count": 23,
   "metadata": {},
   "outputs": [
    {
     "name": "stdout",
     "output_type": "stream",
     "text": [
      "\n",
      "Extracted Program Details:\n",
      "                      Program Name    Weekday         Time   Hours per Week\n",
      "0                     Acupuncture     Monday  10:30-11:45  1.25 hours/week\n",
      "1    Spirituality of Imperfection    Tuesday   9-10:15 am  1.25 hours/week\n",
      "2                            REBT    Tuesday  10:30-11:45  1.25 hours/week\n",
      "3                          IOP/OP  Wednesday   9-10:15 am  1.25 hours/week\n",
      "4         Art Therapy in Recovery  Wednesday  10:30-11:45  1.25 hours/week\n",
      "5  Mindfulness Relapse Prevention     Friday   9-10:15 am  1.25 hours/week\n",
      "6        Alone-liness Alleviation     Friday  10:30-11:45  1.25 hours/week\n",
      "7        Harmony Hope and Healing    Tuesday  10:30-11:45  1.25 hours/week\n",
      "8  Mindfulness Relapse Prevention     Friday   9-10:15 am  1.25 hours/week\n"
     ]
    }
   ],
   "source": [
    "df_program_details = pd.DataFrame({\n",
    "    'Program Name': programs,\n",
    "    'Weekday': weekdays,\n",
    "    'Time': times,\n",
    "    'Hours per Week': hours_per_week\n",
    "})\n",
    "\n",
    "print(\"\\nExtracted Program Details:\\n\", df_program_details)"
   ]
  },
  {
   "cell_type": "code",
   "execution_count": null,
   "metadata": {},
   "outputs": [],
   "source": []
  }
 ],
 "metadata": {
  "kernelspec": {
   "display_name": "Python 3",
   "language": "python",
   "name": "python3"
  },
  "language_info": {
   "codemirror_mode": {
    "name": "ipython",
    "version": 3
   },
   "file_extension": ".py",
   "mimetype": "text/x-python",
   "name": "python",
   "nbconvert_exporter": "python",
   "pygments_lexer": "ipython3",
   "version": "3.11.3"
  }
 },
 "nbformat": 4,
 "nbformat_minor": 2
}
